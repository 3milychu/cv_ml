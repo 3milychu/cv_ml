{
 "cells": [
  {
   "cell_type": "markdown",
   "metadata": {
    "collapsed": true
   },
   "source": [
    "## Met Objects SVM\n",
    "* Read MetObjects.csv\n",
    "* Create a smaller subset of the data  \n",
    "* Fit SVM\n",
    "\n",
    "# imports and specifications\n",
    "import numpy as np\n",
    "import pandas as pd\n",
    "import matplotlib.pyplot as plt\n",
    "%matplotlib inline"
   ]
  },
  {
   "cell_type": "code",
   "execution_count": 4,
   "metadata": {
    "collapsed": true
   },
   "outputs": [],
   "source": [
    "# imports and specifications\n",
    "import numpy as np\n",
    "import pandas as pd\n",
    "import matplotlib.pyplot as plt\n",
    "%matplotlib inline"
   ]
  },
  {
   "cell_type": "markdown",
   "metadata": {},
   "source": [
    "### read MetObjects.csv"
   ]
  },
  {
   "cell_type": "code",
   "execution_count": 57,
   "metadata": {},
   "outputs": [],
   "source": [
    "met = pd.read_csv('/Volumes/Samsung_T3/majorstudio/labs/analysis/MetObjects-copy.csv',error_bad_lines=False, low_memory=False)"
   ]
  },
  {
   "cell_type": "markdown",
   "metadata": {},
   "source": [
    "### create a smaller subset of the data"
   ]
  },
  {
   "cell_type": "code",
   "execution_count": 58,
   "metadata": {},
   "outputs": [
    {
     "name": "stdout",
     "output_type": "stream",
     "text": [
      "<class 'pandas.core.frame.DataFrame'>\n",
      "(1000, 83)\n",
      "   Unnamed: 0 objectNumber isHighlight isPublic  objectID  \\\n",
      "0           1   1979.486.1       False    False       1.0   \n",
      "1           2   1980.264.5       False    False       2.0   \n",
      "2           3     67.265.9       False    False       3.0   \n",
      "3           4    67.265.10       False    False       4.0   \n",
      "4           5    67.265.11       False    False       5.0   \n",
      "\n",
      "                 Department objectName                         Title Culture  \\\n",
      "0  American Decorative Arts       Coin  One-dollar Liberty Head Coin     NaN   \n",
      "1  American Decorative Arts       Coin  Ten-dollar Liberty Head Coin     NaN   \n",
      "2  American Decorative Arts       Coin    Two-and-a-Half Dollar Coin     NaN   \n",
      "3  American Decorative Arts       Coin    Two-and-a-Half Dollar Coin     NaN   \n",
      "4  American Decorative Arts       Coin    Two-and-a-Half Dollar Coin     NaN   \n",
      "\n",
      "  Period   ...    isDept10 isDept11 isDept12 isDept13 isDept14 isDept15  \\\n",
      "0    NaN   ...         0.0      0.0      0.0      0.0      0.0      0.0   \n",
      "1    NaN   ...         0.0      0.0      0.0      0.0      0.0      0.0   \n",
      "2    NaN   ...         0.0      0.0      0.0      0.0      0.0      0.0   \n",
      "3    NaN   ...         0.0      0.0      0.0      0.0      0.0      0.0   \n",
      "4    NaN   ...         0.0      0.0      0.0      0.0      0.0      0.0   \n",
      "\n",
      "  isDept16 isDept17 isDept18 isDept19  \n",
      "0      0.0      0.0      0.0      0.0  \n",
      "1      0.0      0.0      0.0      0.0  \n",
      "2      0.0      0.0      0.0      0.0  \n",
      "3      0.0      0.0      0.0      0.0  \n",
      "4      0.0      0.0      0.0      0.0  \n",
      "\n",
      "[5 rows x 83 columns]\n"
     ]
    }
   ],
   "source": [
    "# create a subset of \"met\" that contains all the columns but only only the first 1000 rows\n",
    "met_subset = met[:1000]\n",
    "print(type(met_subset))\n",
    "print(met_subset.shape)\n",
    "print(met.head())"
   ]
  },
  {
   "cell_type": "markdown",
   "metadata": {},
   "source": [
    "### create a ndarray for `L`"
   ]
  },
  {
   "cell_type": "code",
   "execution_count": 68,
   "metadata": {},
   "outputs": [
    {
     "name": "stdout",
     "output_type": "stream",
     "text": [
      "<class 'pandas.core.series.Series'>\n",
      "<class 'numpy.ndarray'>\n",
      "(1000,)\n",
      "0    American Decorative Arts\n",
      "1    American Decorative Arts\n",
      "2    American Decorative Arts\n",
      "3    American Decorative Arts\n",
      "4    American Decorative Arts\n",
      "Name: Department, dtype: object\n"
     ]
    }
   ],
   "source": [
    "L = met_subset[\"Department\"]\n",
    "print(type(L))\n",
    "print(type(L.values))\n",
    "print(L.shape)\n",
    "print(L.head())"
   ]
  },
  {
   "cell_type": "markdown",
   "metadata": {},
   "source": [
    "### create a ndarray for `X`\n",
    "Use only \"Score\" and \"Time\" as features, for now."
   ]
  },
  {
   "cell_type": "code",
   "execution_count": 69,
   "metadata": {},
   "outputs": [
    {
     "name": "stdout",
     "output_type": "stream",
     "text": [
      "<class 'pandas.core.frame.DataFrame'>\n",
      "<class 'numpy.ndarray'>\n",
      "(1000, 2)\n"
     ]
    }
   ],
   "source": [
    "X = met_subset[[\"hasLeather\", \"objectBeginDate\"]]\n",
    "print(type(X))\n",
    "print(type(X.values))\n",
    "print(X.shape)"
   ]
  },
  {
   "cell_type": "code",
   "execution_count": 70,
   "metadata": {},
   "outputs": [
    {
     "name": "stdout",
     "output_type": "stream",
     "text": [
      "   hasLeather  objectBeginDate\n",
      "0         0.0           1853.0\n",
      "1         0.0           1901.0\n",
      "2         0.0           1909.0\n",
      "3         0.0           1909.0\n",
      "4         0.0           1909.0\n"
     ]
    }
   ],
   "source": [
    "print(X.head())"
   ]
  },
  {
   "cell_type": "markdown",
   "metadata": {},
   "source": [
    "### using the `SVC` class in `sklearn.svm`, fit the SVM model according to the given training data\n",
    "For now, accept all the default parameters in `SVC`"
   ]
  },
  {
   "cell_type": "code",
   "execution_count": 71,
   "metadata": {},
   "outputs": [
    {
     "data": {
      "text/plain": [
       "SVC(C=1.0, cache_size=200, class_weight=None, coef0=0.0,\n",
       "  decision_function_shape='ovr', degree=3, gamma='auto', kernel='rbf',\n",
       "  max_iter=-1, probability=False, random_state=None, shrinking=True,\n",
       "  tol=0.001, verbose=False)"
      ]
     },
     "execution_count": 71,
     "metadata": {},
     "output_type": "execute_result"
    }
   ],
   "source": [
    "from sklearn.svm import SVC\n",
    "clf = SVC() # accepting all the default parameters\n",
    "clf.fit(X, L)"
   ]
  },
  {
   "cell_type": "markdown",
   "metadata": {},
   "source": [
    "### predict `Y` with the model"
   ]
  },
  {
   "cell_type": "code",
   "execution_count": 72,
   "metadata": {},
   "outputs": [],
   "source": [
    "Y = clf.predict(X)"
   ]
  },
  {
   "cell_type": "markdown",
   "metadata": {},
   "source": [
    "### how well did we do? compare the model's predictions for  `Y` to the labels `L`"
   ]
  },
  {
   "cell_type": "code",
   "execution_count": 73,
   "metadata": {},
   "outputs": [
    {
     "name": "stdout",
     "output_type": "stream",
     "text": [
      "983\n"
     ]
    }
   ],
   "source": [
    "# number of accurate predictions\n",
    "print(sum(Y == L.values))"
   ]
  },
  {
   "cell_type": "code",
   "execution_count": null,
   "metadata": {
    "collapsed": true
   },
   "outputs": [],
   "source": []
  }
 ],
 "metadata": {
  "kernelspec": {
   "display_name": "Python 3",
   "language": "python",
   "name": "python3"
  },
  "language_info": {
   "codemirror_mode": {
    "name": "ipython",
    "version": 3
   },
   "file_extension": ".py",
   "mimetype": "text/x-python",
   "name": "python",
   "nbconvert_exporter": "python",
   "pygments_lexer": "ipython3",
   "version": "3.6.3"
  }
 },
 "nbformat": 4,
 "nbformat_minor": 1
}
