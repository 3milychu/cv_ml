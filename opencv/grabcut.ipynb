{
 "cells": [
  {
   "cell_type": "markdown",
   "metadata": {},
   "source": [
    "# Batch Downloading Images and Extracting Foreground on Transparent Backgrounds"
   ]
  },
  {
   "cell_type": "code",
   "execution_count": null,
   "metadata": {
    "collapsed": true
   },
   "outputs": [],
   "source": [
    "import numpy as np\n",
    "import pandas as pd\n",
    "import cv2 as cv\n",
    "from matplotlib import pyplot as plt"
   ]
  },
  {
   "cell_type": "markdown",
   "metadata": {},
   "source": [
    "### Step 1: Load csv with image names and image urls in 2 seperate columns"
   ]
  },
  {
   "cell_type": "code",
   "execution_count": null,
   "metadata": {},
   "outputs": [],
   "source": [
    "df = pd.read_csv('/Volumes/Samsung_T3/project-repos/majorstudio/data/clothes/costume_reclass.csv')\n",
    "print(df.head())\n",
    "\n",
    "# Read the 1) image names, 2) image urls, 3) any other info you need:\n",
    "label = df['img']\n",
    "url = df['src']\n",
    "\n",
    "# If pulling from API for below:\n",
    "number = df['number']\n",
    "objectID = df['objectID']"
   ]
  },
  {
   "cell_type": "markdown",
   "metadata": {},
   "source": [
    "### API Request: Get Needed Info from API and download to CSV (Optional)"
   ]
  },
  {
   "cell_type": "code",
   "execution_count": null,
   "metadata": {
    "collapsed": true
   },
   "outputs": [],
   "source": [
    "myJson=[]"
   ]
  },
  {
   "cell_type": "code",
   "execution_count": null,
   "metadata": {},
   "outputs": [],
   "source": [
    "import urllib.request\n",
    "import json\n",
    "import csv\n",
    "\n",
    "for i in range(0,1000):\n",
    "    base_url = 'https://collectionapi.metmuseum.org/api/collection/v1/object/'\n",
    "    objectid = str(int(objectID[i]))\n",
    "    url = base_url + objectid\n",
    "    req = urllib.request.Request(url)\n",
    "\n",
    "    ##parsing response\n",
    "    r = urllib.request.urlopen(req).read()\n",
    "    data = json.loads(r.decode('utf-8'))\n",
    "    \n",
    "    ##parsing json\n",
    "    for objectid in data['location']['gallery']:\n",
    "        location = data['location']['gallery']\n",
    "        gallery, gallery_num = location.split()\n",
    "        gallery_num_int = int(gallery_num)\n",
    "       \n",
    "        if gallery_num_int > 755 and gallery_num_int < 772:\n",
    "            var = {\"Title\": data['titles']['primaryTitle'],\"Gallery\": data['location']['gallery'],\n",
    "                   \"Image URL\": data['media']['images']['primaryImage']['imageUrl'], \n",
    "                   \"URL\": data['metadata']['metaCanonicalURL']}\n",
    "            myJson.append(var.copy())\n",
    "\n",
    "# Create table with list values\n",
    "import pandas\n",
    "myJson_df = pandas.DataFrame(myJson)\n",
    "myJson_table = myJson_df.drop_duplicates(keep='first', inplace=False)\n",
    "print(myJson_table)"
   ]
  },
  {
   "cell_type": "code",
   "execution_count": null,
   "metadata": {},
   "outputs": [],
   "source": [
    "# Write to csv\n",
    "myJson_table.to_csv(\"./file.csv\", sep=',',index=False)\n"
   ]
  },
  {
   "cell_type": "markdown",
   "metadata": {},
   "source": [
    "### Step 2: Download images and save to absolute path on hard drive"
   ]
  },
  {
   "cell_type": "code",
   "execution_count": null,
   "metadata": {
    "collapsed": true
   },
   "outputs": [],
   "source": [
    "import urllib\n",
    "\n",
    "for i in range(len(url)):\n",
    "    name = label[i]\n",
    "    print(name)\n",
    "    link = url[i]\n",
    "    urllib.request.urlretrieve (link,'/Volumes/Samsung_T3/project-repos/majorstudio/img/'+ name)"
   ]
  },
  {
   "cell_type": "markdown",
   "metadata": {},
   "source": [
    "### Step 3: See which images you downloaded"
   ]
  },
  {
   "cell_type": "code",
   "execution_count": null,
   "metadata": {
    "collapsed": true
   },
   "outputs": [],
   "source": [
    "import os\n",
    "import numpy as np\n",
    "\n",
    "# Create array with names of all images downloaded\n",
    "jpg = []\n",
    "for root, dirs, files in os.walk('/Volumes/Samsung_T3/project-repos/majorstudio/img'):\n",
    "    for file in files:\n",
    "            jpg.append(file)\n",
    "            \n",
    "print(len(jpg))\n",
    "\n",
    "# Save array to csv\n",
    "np.savetxt(\"jpg.csv\", jpg,fmt=\"%s\",delimiter=\",\")"
   ]
  },
  {
   "cell_type": "markdown",
   "metadata": {},
   "source": [
    "### Step 4: Get downloaded images, extract to transparent bg, and save to new folder"
   ]
  },
  {
   "cell_type": "code",
   "execution_count": null,
   "metadata": {
    "collapsed": true
   },
   "outputs": [],
   "source": [
    " for i in range(7110,len(label)):\n",
    "    name= label[i]\n",
    "    path = '/Volumes/Samsung_T3/project-repos/majorstudio/img/' + name\n",
    "    path1 = str(path)\n",
    "    print(path1)\n",
    "    img = cv.imread(path1)\n",
    "#     img = cv.blur(img,(2,2))\n",
    "    mask = np.zeros(img.shape[:2],np.uint8)\n",
    "    bgdModel = np.zeros((1,65),np.float64)\n",
    "    fgdModel = np.zeros((1,65),np.float64)\n",
    "    height, width = img.shape[:2]\n",
    "    rect = (1,1,width-5,height-5)\n",
    "    cv.grabCut(img,mask,rect,bgdModel,fgdModel,5,cv.GC_INIT_WITH_RECT)\n",
    "    mask2 = np.where((mask==2)|(mask==0),0,1).astype('uint8')\n",
    "    img = img*mask2[:,:,np.newaxis]\n",
    "    tmp = cv.cvtColor(img, cv.COLOR_BGR2GRAY)\n",
    "    _,alpha = cv.threshold(tmp,0,255,cv.THRESH_BINARY)\n",
    "    b, g, r = cv.split(img)\n",
    "    rgba = [b,g,r, alpha]\n",
    "    dst = cv.merge(rgba,4)\n",
    "    plt.imshow(dst),plt.colorbar(),plt.show()\n",
    "    cv.imwrite('/Volumes/Samsung_T3/project-repos/majorstudio/png/'+ name + '.png',dst)\n",
    "    \n",
    "\n"
   ]
  },
  {
   "cell_type": "code",
   "execution_count": null,
   "metadata": {},
   "outputs": [],
   "source": [
    "for i in range(7001,len(label)):\n",
    "    name= label[i]\n",
    "    path = '/Volumes/Samsung_T3/project-repos/majorstudio/png/' + name + '.png'\n",
    "    path1 = str(path)\n",
    "    print(path1)\n",
    "    img = cv.imread(path1)\n",
    "    tmp = cv.cvtColor(img, cv.COLOR_BGR2GRAY)\n",
    "    _,alpha = cv.threshold(tmp,0,255,cv.THRESH_BINARY)\n",
    "    b, g, r = cv.split(img)\n",
    "    rgba = [b,g,r, alpha]\n",
    "    dst = cv.merge(rgba,4)\n",
    "    cv.imwrite('/Volumes/Samsung_T3/project-repos/majorstudio/png8/'+ name + '.png',dst)\n",
    "    print(\"Wrote: \" + path1)\n",
    "    "
   ]
  },
  {
   "cell_type": "markdown",
   "metadata": {},
   "source": [
    "### Resize and save to absolute path on hard drive"
   ]
  },
  {
   "cell_type": "code",
   "execution_count": null,
   "metadata": {
    "collapsed": true
   },
   "outputs": [],
   "source": [
    "def image_resize(image, width = None, height = None, inter = cv.INTER_AREA):\n",
    "    # initialize the dimensions of the image to be resized and\n",
    "    # grab the image size\n",
    "    dim = None\n",
    "    (h, w) = image.shape[:2]\n",
    "\n",
    "    # if both the width and height are None, then return the\n",
    "    # original image\n",
    "    if width is None and height is None:\n",
    "        return image\n",
    "\n",
    "    # check to see if the width is None\n",
    "    if width is None:\n",
    "        # calculate the ratio of the height and construct the\n",
    "        # dimensions\n",
    "        r = height / float(h)\n",
    "        dim = (int(w * r), height)\n",
    "\n",
    "    # otherwise, the height is None\n",
    "    else:\n",
    "        # calculate the ratio of the width and construct the\n",
    "        # dimensions\n",
    "        r = width / float(w)\n",
    "        dim = (width, int(h * r))\n",
    "\n",
    "    # resize the image\n",
    "    resized = cv.resize(image, dim, interpolation = inter)\n",
    "\n",
    "    # return the resized image\n",
    "    return resized"
   ]
  },
  {
   "cell_type": "code",
   "execution_count": null,
   "metadata": {},
   "outputs": [],
   "source": [
    "from PIL import Image\n",
    "\n",
    "for i in range(7760,len(label)):\n",
    "    name= label[i]\n",
    "    path = '/Volumes/Samsung_T3/project-repos/majorstudio/png/' + name + '.png'\n",
    "    path1 = str(path)\n",
    "    print(path1)\n",
    "    basewidth = 50\n",
    "    img = Image.open(path1)\n",
    "    wpercent = (basewidth/float(img.size[0]))\n",
    "    hsize = int((float(img.size[1])*float(wpercent)))\n",
    "    img = img.resize((basewidth,hsize), Image.ANTIALIAS)\n",
    "    img.save('/Volumes/Samsung_T3/project-repos/epochrunway/assets/png8/'+ name + \".png\")\n",
    "    print(\"Wrote: \" + path1)"
   ]
  },
  {
   "cell_type": "code",
   "execution_count": null,
   "metadata": {
    "collapsed": true
   },
   "outputs": [],
   "source": []
  }
 ],
 "metadata": {
  "kernelspec": {
   "display_name": "Python 3",
   "language": "python",
   "name": "python3"
  },
  "language_info": {
   "codemirror_mode": {
    "name": "ipython",
    "version": 3
   },
   "file_extension": ".py",
   "mimetype": "text/x-python",
   "name": "python",
   "nbconvert_exporter": "python",
   "pygments_lexer": "ipython3",
   "version": "3.6.3"
  }
 },
 "nbformat": 4,
 "nbformat_minor": 2
}
