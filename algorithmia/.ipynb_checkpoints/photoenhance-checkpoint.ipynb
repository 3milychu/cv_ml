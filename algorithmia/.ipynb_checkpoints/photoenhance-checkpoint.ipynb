{
 "cells": [
  {
   "cell_type": "markdown",
   "metadata": {},
   "source": [
    "# Computer Vision API with Algorithmia"
   ]
  },
  {
   "cell_type": "markdown",
   "metadata": {},
   "source": [
    "### Connect to Algorithmia and set up directory"
   ]
  },
  {
   "cell_type": "code",
   "execution_count": 17,
   "metadata": {},
   "outputs": [
    {
     "name": "stdout",
     "output_type": "stream",
     "text": [
      "{\\rtf1\\ansi\\ansicpg1252\\cocoartf1504\\cocoasubrtf830\n",
      "{\\fonttbl\\f0\\fswiss\\fcharset0 Helvetica;}\n",
      "{\\colortbl;\\red255\\green255\\blue255;}\n",
      "{\\*\\expandedcolortbl;;}\n",
      "\\margl1440\\margr1440\\vieww10800\\viewh8400\\viewkind0\n",
      "\\pard\\tx720\\tx1440\\tx2160\\tx2880\\tx3600\\tx4320\\tx5040\\tx5760\\tx6480\\tx7200\\tx7920\\tx8640\\pardirnatural\\partightenfactor0\n",
      "\n",
      "\\f0\\fs24 \\cf0 testing}.\n"
     ]
    }
   ],
   "source": [
    "import Algorithmia\n",
    "from Algorithmia.acl import ReadAcl, AclType\n",
    "\n",
    "# Authenticate with your API key\n",
    "apiKey = \"simeYOlRO/Jq2bJxn2Qv9tHpUTh1\"\n",
    "# Create the Algorithmia client object\n",
    "client = Algorithmia.client(apiKey)\n",
    "\n",
    "# Set your Data URI\n",
    "nlp_directory = client.dir(\"data://echu4092/nlp_directory\")\n",
    "# Create your data collection if it does not exist\n",
    "if nlp_directory.exists() is False:\n",
    "\tnlp_directory.create()\n",
    "\n",
    "# Create the acl object and check if it's the .my_algos default setting\n",
    "acl = nlp_directory.get_permissions()  # Acl object\n",
    "acl.read_acl == AclType.my_algos  # True\n",
    "\n",
    "# Update permissions to private\n",
    "nlp_directory.update_permissions(ReadAcl.private)\n",
    "nlp_directory.get_permissions().read_acl == AclType.private # True\n",
    "\n",
    "text_file = \"data://echu4092/nlp_directory/testing.txt\"\n",
    "\n",
    "# Upload local file\n",
    "if client.file(text_file).exists() is False:\n",
    "\tclient.file(text_file).putFile(\"/Volumes/Samsung_T3/project-repos/computervision/testing.txt\")\n",
    "\n",
    "# Download contents of file as a string\n",
    "if client.file(text_file).exists() is True:\n",
    "\tinput = client.file(text_file).getString()\n",
    "    \n",
    "# Create the algorithm object using the Summarizer algorithm\n",
    "algo = client.algo('nlp/Summarizer/0.1.3')\n",
    "# Pass in input required by algorithm\n",
    "try:\n",
    "\t# Get the summary result of your file's contents\n",
    "\tprint(algo.pipe(input).result)\n",
    "except Exception as error:\n",
    "  # Algorithm error if, for example, the input is not correctly formatted\n",
    "  print(error)\n"
   ]
  },
  {
   "cell_type": "markdown",
   "metadata": {},
   "source": [
    "### Testing: https://algorithmia.com/algorithms/deeplearning/PhotoQualityEnhancement"
   ]
  },
  {
   "cell_type": "code",
   "execution_count": 9,
   "metadata": {},
   "outputs": [
    {
     "name": "stdout",
     "output_type": "stream",
     "text": [
      "AlgoResponse(result={'enhanced_image': 'data://.algo/deeplearning/PhotoQualityEnhancement/temp/enhanced.png', 'original_image': 'https://raw.githubusercontent.com/3milychu/3milychu.github.io/master/assets/profilepic1.jpg'},metadata=Metadata(content_type='json',duration=12.254466978,stdout=None))\n"
     ]
    }
   ],
   "source": [
    "import Algorithmia\n",
    "\n",
    "input = {\n",
    "  \"image\": \"https://raw.githubusercontent.com/3milychu/3milychu.github.io/master/assets/profilepic1.jpg\",\n",
    "  \"phone\": \"iphone\"\n",
    "}\n",
    "client = Algorithmia.client('simeYOlRO/Jq2bJxn2Qv9tHpUTh1')\n",
    "algo = client.algo('deeplearning/PhotoQualityEnhancement/0.1.3')\n",
    "print(algo.pipe(input))"
   ]
  },
  {
   "cell_type": "code",
   "execution_count": 2,
   "metadata": {},
   "outputs": [
    {
     "name": "stdout",
     "output_type": "stream",
     "text": [
      "AlgoResponse(result={'dest': 'data://echu4092/nlp_directory/profilepic.jpg'},metadata=Metadata(content_type='json',duration=1.916349184,stdout=None))\n"
     ]
    }
   ],
   "source": [
    "import Algorithmia\n",
    "\n",
    "input = {\n",
    "  \"source\": \"data://.algo/util/SmartImageDownloader/temp/21fa866c-c4f7-4ffa-85e8-04592535f6bf.jpg\",\n",
    "  \"dest\": \"data://echu4092/nlp_directory/profilepic.jpg\",\n",
    "  \"model\": \"imagenet\"\n",
    "}\n",
    "client = Algorithmia.client('simeYOlRO/Jq2bJxn2Qv9tHpUTh1')\n",
    "algo = client.algo('zza/EnhanceResolution/0.1.0')\n",
    "print(algo.pipe(input))"
   ]
  },
  {
   "cell_type": "code",
   "execution_count": null,
   "metadata": {
    "collapsed": true
   },
   "outputs": [],
   "source": []
  }
 ],
 "metadata": {
  "kernelspec": {
   "display_name": "Python 3",
   "language": "python",
   "name": "python3"
  },
  "language_info": {
   "codemirror_mode": {
    "name": "ipython",
    "version": 3
   },
   "file_extension": ".py",
   "mimetype": "text/x-python",
   "name": "python",
   "nbconvert_exporter": "python",
   "pygments_lexer": "ipython3",
   "version": "3.6.3"
  }
 },
 "nbformat": 4,
 "nbformat_minor": 2
}
