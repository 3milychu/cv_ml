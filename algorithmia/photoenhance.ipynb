{
 "cells": [
  {
   "cell_type": "markdown",
   "metadata": {},
   "source": [
    "# Computer Vision API with Algorithmia"
   ]
  },
  {
   "cell_type": "markdown",
   "metadata": {},
   "source": [
    "### Connect to Algorithmia and set up directory"
   ]
  },
  {
   "cell_type": "code",
   "execution_count": 17,
   "metadata": {},
   "outputs": [
    {
     "name": "stdout",
     "output_type": "stream",
     "text": [
      "{\\rtf1\\ansi\\ansicpg1252\\cocoartf1504\\cocoasubrtf830\n",
      "{\\fonttbl\\f0\\fswiss\\fcharset0 Helvetica;}\n",
      "{\\colortbl;\\red255\\green255\\blue255;}\n",
      "{\\*\\expandedcolortbl;;}\n",
      "\\margl1440\\margr1440\\vieww10800\\viewh8400\\viewkind0\n",
      "\\pard\\tx720\\tx1440\\tx2160\\tx2880\\tx3600\\tx4320\\tx5040\\tx5760\\tx6480\\tx7200\\tx7920\\tx8640\\pardirnatural\\partightenfactor0\n",
      "\n",
      "\\f0\\fs24 \\cf0 testing}.\n"
     ]
    }
   ],
   "source": [
    "import Algorithmia\n",
    "from Algorithmia.acl import ReadAcl, AclType\n",
    "\n",
    "# Authenticate with your API key\n",
    "apiKey = \"simeYOlRO/Jq2bJxn2Qv9tHpUTh1\"\n",
    "# Create the Algorithmia client object\n",
    "client = Algorithmia.client(apiKey)\n",
    "\n",
    "# Set your Data URI\n",
    "nlp_directory = client.dir(\"data://echu4092/nlp_directory\")\n",
    "# Create your data collection if it does not exist\n",
    "if nlp_directory.exists() is False:\n",
    "\tnlp_directory.create()\n",
    "\n",
    "# Create the acl object and check if it's the .my_algos default setting\n",
    "acl = nlp_directory.get_permissions()  # Acl object\n",
    "acl.read_acl == AclType.my_algos  # True\n",
    "\n",
    "# Update permissions to private\n",
    "nlp_directory.update_permissions(ReadAcl.private)\n",
    "nlp_directory.get_permissions().read_acl == AclType.private # True\n",
    "\n",
    "text_file = \"data://echu4092/nlp_directory/testing.txt\"\n",
    "\n",
    "# Upload local file\n",
    "if client.file(text_file).exists() is False:\n",
    "\tclient.file(text_file).putFile(\"/Volumes/Samsung_T3/project-repos/computervision/testing.txt\")\n",
    "\n",
    "# Download contents of file as a string\n",
    "if client.file(text_file).exists() is True:\n",
    "\tinput = client.file(text_file).getString()\n",
    "    \n",
    "# Create the algorithm object using the Summarizer algorithm\n",
    "algo = client.algo('nlp/Summarizer/0.1.3')\n",
    "# Pass in input required by algorithm\n",
    "try:\n",
    "\t# Get the summary result of your file's contents\n",
    "\tprint(algo.pipe(input).result)\n",
    "except Exception as error:\n",
    "  # Algorithm error if, for example, the input is not correctly formatted\n",
    "  print(error)\n"
   ]
  },
  {
   "cell_type": "markdown",
   "metadata": {},
   "source": [
    "### Testing: https://algorithmia.com/algorithms/deeplearning/PhotoQualityEnhancement"
   ]
  },
  {
   "cell_type": "code",
   "execution_count": 9,
   "metadata": {},
   "outputs": [
    {
     "name": "stdout",
     "output_type": "stream",
     "text": [
      "AlgoResponse(result={'enhanced_image': 'data://.algo/deeplearning/PhotoQualityEnhancement/temp/enhanced.png', 'original_image': 'https://raw.githubusercontent.com/3milychu/3milychu.github.io/master/assets/profilepic1.jpg'},metadata=Metadata(content_type='json',duration=12.254466978,stdout=None))\n"
     ]
    }
   ],
   "source": [
    "import Algorithmia\n",
    "\n",
    "input = {\n",
    "  \"image\": \"https://raw.githubusercontent.com/3milychu/3milychu.github.io/master/assets/profilepic1.jpg\",\n",
    "  \"phone\": \"iphone\"\n",
    "}\n",
    "client = Algorithmia.client('simeYOlRO/Jq2bJxn2Qv9tHpUTh1')\n",
    "algo = client.algo('deeplearning/PhotoQualityEnhancement/0.1.3')\n",
    "print(algo.pipe(input))"
   ]
  },
  {
   "cell_type": "code",
   "execution_count": 18,
   "metadata": {},
   "outputs": [
    {
     "ename": "AlgoException",
     "evalue": "Failed to download input source\ncaused by: API error - 400 Bad Request",
     "output_type": "error",
     "traceback": [
      "\u001b[0;31m---------------------------------------------------------------------------\u001b[0m",
      "\u001b[0;31mAlgoException\u001b[0m                             Traceback (most recent call last)",
      "\u001b[0;32m<ipython-input-18-8b10b95262ab>\u001b[0m in \u001b[0;36m<module>\u001b[0;34m()\u001b[0m\n\u001b[1;32m      8\u001b[0m \u001b[0mclient\u001b[0m \u001b[0;34m=\u001b[0m \u001b[0mAlgorithmia\u001b[0m\u001b[0;34m.\u001b[0m\u001b[0mclient\u001b[0m\u001b[0;34m(\u001b[0m\u001b[0;34m'simeYOlRO/Jq2bJxn2Qv9tHpUTh1'\u001b[0m\u001b[0;34m)\u001b[0m\u001b[0;34m\u001b[0m\u001b[0m\n\u001b[1;32m      9\u001b[0m \u001b[0malgo\u001b[0m \u001b[0;34m=\u001b[0m \u001b[0mclient\u001b[0m\u001b[0;34m.\u001b[0m\u001b[0malgo\u001b[0m\u001b[0;34m(\u001b[0m\u001b[0;34m'zza/EnhanceResolution/0.1.0'\u001b[0m\u001b[0;34m)\u001b[0m\u001b[0;34m\u001b[0m\u001b[0m\n\u001b[0;32m---> 10\u001b[0;31m \u001b[0mprint\u001b[0m\u001b[0;34m(\u001b[0m\u001b[0malgo\u001b[0m\u001b[0;34m.\u001b[0m\u001b[0mpipe\u001b[0m\u001b[0;34m(\u001b[0m\u001b[0minput\u001b[0m\u001b[0;34m)\u001b[0m\u001b[0;34m)\u001b[0m\u001b[0;34m\u001b[0m\u001b[0m\n\u001b[0m",
      "\u001b[0;32m/anaconda3/lib/python3.6/site-packages/Algorithmia/algorithm.py\u001b[0m in \u001b[0;36mpipe\u001b[0;34m(self, input1)\u001b[0m\n\u001b[1;32m     38\u001b[0m             \u001b[0;32mreturn\u001b[0m \u001b[0mself\u001b[0m\u001b[0;34m.\u001b[0m\u001b[0m_postVoidOutput\u001b[0m\u001b[0;34m(\u001b[0m\u001b[0minput1\u001b[0m\u001b[0;34m)\u001b[0m\u001b[0;34m\u001b[0m\u001b[0m\n\u001b[1;32m     39\u001b[0m         \u001b[0;32melse\u001b[0m\u001b[0;34m:\u001b[0m\u001b[0;34m\u001b[0m\u001b[0m\n\u001b[0;32m---> 40\u001b[0;31m             \u001b[0;32mreturn\u001b[0m \u001b[0mAlgoResponse\u001b[0m\u001b[0;34m.\u001b[0m\u001b[0mcreate_algo_response\u001b[0m\u001b[0;34m(\u001b[0m\u001b[0mself\u001b[0m\u001b[0;34m.\u001b[0m\u001b[0mclient\u001b[0m\u001b[0;34m.\u001b[0m\u001b[0mpostJsonHelper\u001b[0m\u001b[0;34m(\u001b[0m\u001b[0mself\u001b[0m\u001b[0;34m.\u001b[0m\u001b[0murl\u001b[0m\u001b[0;34m,\u001b[0m \u001b[0minput1\u001b[0m\u001b[0;34m,\u001b[0m \u001b[0;34m**\u001b[0m\u001b[0mself\u001b[0m\u001b[0;34m.\u001b[0m\u001b[0mquery_parameters\u001b[0m\u001b[0;34m)\u001b[0m\u001b[0;34m)\u001b[0m\u001b[0;34m\u001b[0m\u001b[0m\n\u001b[0m\u001b[1;32m     41\u001b[0m \u001b[0;34m\u001b[0m\u001b[0m\n\u001b[1;32m     42\u001b[0m     \u001b[0;32mdef\u001b[0m \u001b[0m_postRawOutput\u001b[0m\u001b[0;34m(\u001b[0m\u001b[0mself\u001b[0m\u001b[0;34m,\u001b[0m \u001b[0minput1\u001b[0m\u001b[0;34m)\u001b[0m\u001b[0;34m:\u001b[0m\u001b[0;34m\u001b[0m\u001b[0m\n",
      "\u001b[0;32m/anaconda3/lib/python3.6/site-packages/Algorithmia/algo_response.py\u001b[0m in \u001b[0;36mcreate_algo_response\u001b[0;34m(responseJson)\u001b[0m\n\u001b[1;32m     14\u001b[0m         \u001b[0;32mif\u001b[0m \u001b[0;34m'error'\u001b[0m \u001b[0;32min\u001b[0m \u001b[0mresponseJson\u001b[0m\u001b[0;34m:\u001b[0m\u001b[0;34m\u001b[0m\u001b[0m\n\u001b[1;32m     15\u001b[0m             \u001b[0;31m# Failure\u001b[0m\u001b[0;34m\u001b[0m\u001b[0;34m\u001b[0m\u001b[0m\n\u001b[0;32m---> 16\u001b[0;31m             \u001b[0;32mraise\u001b[0m \u001b[0mAlgoException\u001b[0m\u001b[0;34m(\u001b[0m\u001b[0mresponseJson\u001b[0m\u001b[0;34m[\u001b[0m\u001b[0;34m'error'\u001b[0m\u001b[0;34m]\u001b[0m\u001b[0;34m)\u001b[0m\u001b[0;34m\u001b[0m\u001b[0m\n\u001b[0m\u001b[1;32m     17\u001b[0m         \u001b[0;32melse\u001b[0m\u001b[0;34m:\u001b[0m\u001b[0;34m\u001b[0m\u001b[0m\n\u001b[1;32m     18\u001b[0m             \u001b[0mmetadata\u001b[0m \u001b[0;34m=\u001b[0m \u001b[0mMetadata\u001b[0m\u001b[0;34m(\u001b[0m\u001b[0mresponseJson\u001b[0m\u001b[0;34m[\u001b[0m\u001b[0;34m'metadata'\u001b[0m\u001b[0;34m]\u001b[0m\u001b[0;34m)\u001b[0m\u001b[0;34m\u001b[0m\u001b[0m\n",
      "\u001b[0;31mAlgoException\u001b[0m: Failed to download input source\ncaused by: API error - 400 Bad Request"
     ]
    }
   ],
   "source": [
    "import Algorithmia\n",
    "\n",
    "input = {\n",
    "  \"source\": \"https://raw.githubusercontent.com/3milychu/3milychu.github.io/master/assets/profilepic1.jpg\",\n",
    "  \"dest\": \"data://echu4092/nlp_directory/profilepic.jpg\",\n",
    "  \"model\": \"imagenet\"\n",
    "}\n",
    "client = Algorithmia.client('simeYOlRO/Jq2bJxn2Qv9tHpUTh1')\n",
    "algo = client.algo('zza/EnhanceResolution/0.1.0')\n",
    "print(algo.pipe(input))"
   ]
  },
  {
   "cell_type": "code",
   "execution_count": null,
   "metadata": {
    "collapsed": true
   },
   "outputs": [],
   "source": []
  }
 ],
 "metadata": {
  "kernelspec": {
   "display_name": "Python 3",
   "language": "python",
   "name": "python3"
  },
  "language_info": {
   "codemirror_mode": {
    "name": "ipython",
    "version": 3
   },
   "file_extension": ".py",
   "mimetype": "text/x-python",
   "name": "python",
   "nbconvert_exporter": "python",
   "pygments_lexer": "ipython3",
   "version": "3.6.3"
  }
 },
 "nbformat": 4,
 "nbformat_minor": 2
}
